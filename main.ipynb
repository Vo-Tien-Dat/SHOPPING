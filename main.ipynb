{
  "nbformat": 4,
  "nbformat_minor": 0,
  "metadata": {
    "colab": {
      "provenance": [],
      "authorship_tag": "ABX9TyMopDKXze4xkWmFMDO/z5An",
      "include_colab_link": true
    },
    "kernelspec": {
      "name": "python3",
      "display_name": "Python 3"
    },
    "language_info": {
      "name": "python"
    }
  },
  "cells": [
    {
      "cell_type": "markdown",
      "metadata": {
        "id": "view-in-github",
        "colab_type": "text"
      },
      "source": [
        "<a href=\"https://colab.research.google.com/github/Vo-Tien-Dat/SHOPPING/blob/master/main.ipynb\" target=\"_parent\"><img src=\"https://colab.research.google.com/assets/colab-badge.svg\" alt=\"Open In Colab\"/></a>"
      ]
    },
    {
      "cell_type": "code",
      "execution_count": null,
      "metadata": {
        "id": "RleAfEyOLEKr"
      },
      "outputs": [],
      "source": [
        "import csv\n",
        "import pandas as pd\n",
        "import matplotlib.pyplot as plt\n",
        "import numpy as np\n",
        "import os"
      ]
    },
    {
      "cell_type": "code",
      "source": [
        "\n",
        "col_names = ['flow_duration','Header_Length','Protocol_Type','Duration',\n",
        "                   'Rate','Srate','Drate','fin_flag_number',\n",
        "                   'syn_flag_number','rst_flag_number','psh_flag_number','ack_flag_number',\n",
        "                   'ece_flag_number','cwr_flag_number','ack_count','syn_count','fin_count',\n",
        "                   'urg_count','rst_count','HTTP','HTTPS','DNS','Telnet','SMTP','SSH','IRC',\n",
        "                   'TCP','UDP','DHCP','ARP','ICMP','IPv','LLC','tot_sum','Min','Max','AVG',\n",
        "                   'Std','Tot_size','IAT','Number','Magnitue','Radius','Covariance','Variance','Weight','label']"
      ],
      "metadata": {
        "id": "pn4cX0s5LLSf"
      },
      "execution_count": null,
      "outputs": []
    },
    {
      "cell_type": "code",
      "source": [
        "root_path = os.getcwd()\n",
        "file_paths = []\n",
        "folder_path = root_path + '/sample_data/'\n",
        "file_names = [\n",
        "    'part-00000-363d1ba3-8ab5-4f96-bc25-4d5862db7cb9-c000.csv',\n",
        "    'part-00001-363d1ba3-8ab5-4f96-bc25-4d5862db7cb9-c000.csv',\n",
        "    'part-00002-363d1ba3-8ab5-4f96-bc25-4d5862db7cb9-c000.csv',\n",
        "    'part-00003-363d1ba3-8ab5-4f96-bc25-4d5862db7cb9-c000.csv',\n",
        "    'part-00004-363d1ba3-8ab5-4f96-bc25-4d5862db7cb9-c000.csv',\n",
        "]\n",
        "\n",
        "for file_name in file_names:\n",
        "  file_path = folder_path + file_name\n",
        "  file_paths.append(file_paths)\n",
        "  print(file_path)\n",
        "\n",
        "\n",
        "# def grouped_data_from_multiple_file(file_paths = [], col_names = []):\n",
        "\n",
        "#     datas = pd.DataFrame()\n",
        "#     if len(file_paths) == 0:\n",
        "#         raise ValueError('Vui lòng kiểm tra đường dẫn file')\n",
        "\n",
        "#     for file_path in file_paths:\n",
        "\n",
        "#         data = pd.read_csv(file_path, names= col_names)\n",
        "\n",
        "#         if(len(data) == 0):\n",
        "#             raise ValueError('Dữ liệu trong file ${}'.format(file_path))\n",
        "\n",
        "#         if len(datas) == 0:\n",
        "#             datas = pd.concat([datas, data])\n",
        "#             continue\n",
        "\n",
        "#         if len(datas.columns) != len(data.columns):\n",
        "#             raise ValueError(\"Số lượng côt không khóp! Vui lòng kiểm tra dữ liệu của file\")\n",
        "\n",
        "#         datas = pd.concat([datas, data])\n",
        "#     return datas\n",
        "\n",
        "# data = grouped_data_from_multiple_file(file_paths=file_paths, col_names=col_names)\n"
      ],
      "metadata": {
        "colab": {
          "base_uri": "https://localhost:8080/"
        },
        "id": "UF_g8m4QLMKv",
        "outputId": "c86130d2-7368-46bb-c2c9-93567203ad8c"
      },
      "execution_count": null,
      "outputs": [
        {
          "output_type": "stream",
          "name": "stdout",
          "text": [
            "/content/sample_data/part-00000-363d1ba3-8ab5-4f96-bc25-4d5862db7cb9-c000.csv\n",
            "/content/sample_data/part-00001-363d1ba3-8ab5-4f96-bc25-4d5862db7cb9-c000.csv\n",
            "/content/sample_data/part-00002-363d1ba3-8ab5-4f96-bc25-4d5862db7cb9-c000.csv\n",
            "/content/sample_data/part-00003-363d1ba3-8ab5-4f96-bc25-4d5862db7cb9-c000.csv\n",
            "/content/sample_data/part-00004-363d1ba3-8ab5-4f96-bc25-4d5862db7cb9-c000.csv\n"
          ]
        }
      ]
    },
    {
      "cell_type": "code",
      "source": [
        "ORDINARY_LABEL_NAME = 'BenignTraffic'\n",
        "\n",
        "DDOS_LABEL = ['DDoS-ICMP_Flood', 'DDoS-UDP_Flood', 'DDoS-TCP_Flood', 'DDoS-PSHACK_Flood', 'DDoS-SYN_Flood', 'DDoS-RSTFINFlood', 'DDoS-SynonymousIP_Flood', 'DDoS-ICMP_Fragmentation', 'DDoS-ACK_Fragmentation', 'DDoS-UDP_Fragmentation', 'DDoS-HTTP_Flood', 'DDoS-SlowLoris']\n",
        "\n",
        "DOS_LABEL = ['DoS-UDP_Flood', 'DoS-TCP_Flood', 'DoS-SYN_Flood', 'DoS-HTTP_Flood']\n",
        "\n",
        "MIRAI_LABEL = ['Mirai-greeth_flood', 'Mirai-udpplain', 'Mirai-greip_flood']\n",
        "\n",
        "SPOOFING_LABEL = ['MITM-ArpSpoofing', 'DNS_Spoofing']\n",
        "\n",
        "RECON_LABEL = ['Recon-HostDiscovery', 'Recon-OSScan', 'Recon-PortScan', 'Recon-PingSweep', 'VulnerabilityScan']\n",
        "\n",
        "WEB_LABEL = ['SqlInjection', 'BrowserHijacking', 'CommandInjection', 'Backdoor_Malware', 'XSS', 'Uploading_Attack']\n",
        "\n",
        "BRUTE_FORCE_LABEL = ['DictionaryBruteForce']\n",
        "\n",
        "PROTOCOL_FIELDS = [\n",
        "    'HTTP','HTTPS','DNS','Telnet',\n",
        "    'SMTP','SSH','IRC','TCP',\n",
        "    'UDP','DHCP','ARP','ICMP','IPv','LLC'\n",
        "]"
      ],
      "metadata": {
        "id": "RJkCtL59Lil3"
      },
      "execution_count": null,
      "outputs": []
    },
    {
      "cell_type": "code",
      "source": [
        "grouped_fields = np.array_split(PROTOCOL_FIELDS, 5)\n",
        "for grouped_field in grouped_fields:\n",
        "    data[grouped_field].hist()"
      ],
      "metadata": {
        "colab": {
          "base_uri": "https://localhost:8080/",
          "height": 210
        },
        "id": "P2e1kGikLmdg",
        "outputId": "dcc5cbe8-e37a-477a-d189-3ea41b0cf3c2"
      },
      "execution_count": null,
      "outputs": [
        {
          "output_type": "error",
          "ename": "NameError",
          "evalue": "ignored",
          "traceback": [
            "\u001b[0;31m---------------------------------------------------------------------------\u001b[0m",
            "\u001b[0;31mNameError\u001b[0m                                 Traceback (most recent call last)",
            "\u001b[0;32m<ipython-input-5-6f1e2b0ea2d3>\u001b[0m in \u001b[0;36m<cell line: 2>\u001b[0;34m()\u001b[0m\n\u001b[1;32m      1\u001b[0m \u001b[0mgrouped_fields\u001b[0m \u001b[0;34m=\u001b[0m \u001b[0mnp\u001b[0m\u001b[0;34m.\u001b[0m\u001b[0marray_split\u001b[0m\u001b[0;34m(\u001b[0m\u001b[0mPROTOCOL_FIELDS\u001b[0m\u001b[0;34m,\u001b[0m \u001b[0;36m5\u001b[0m\u001b[0;34m)\u001b[0m\u001b[0;34m\u001b[0m\u001b[0;34m\u001b[0m\u001b[0m\n\u001b[1;32m      2\u001b[0m \u001b[0;32mfor\u001b[0m \u001b[0mgrouped_field\u001b[0m \u001b[0;32min\u001b[0m \u001b[0mgrouped_fields\u001b[0m\u001b[0;34m:\u001b[0m\u001b[0;34m\u001b[0m\u001b[0;34m\u001b[0m\u001b[0m\n\u001b[0;32m----> 3\u001b[0;31m     \u001b[0mdata\u001b[0m\u001b[0;34m[\u001b[0m\u001b[0mgrouped_field\u001b[0m\u001b[0;34m]\u001b[0m\u001b[0;34m.\u001b[0m\u001b[0mhist\u001b[0m\u001b[0;34m(\u001b[0m\u001b[0;34m)\u001b[0m\u001b[0;34m\u001b[0m\u001b[0;34m\u001b[0m\u001b[0m\n\u001b[0m",
            "\u001b[0;31mNameError\u001b[0m: name 'data' is not defined"
          ]
        }
      ]
    },
    {
      "cell_type": "code",
      "source": [
        "ordinary_label_data = data.groupby('label').get_group(ORDINARY_LABEL_NAME)\n",
        "attack_label_data =  data.query('label != @ORDINARY_LABEL_NAME')\n",
        "\n",
        "two_classes_label = ['Không tấn công', 'Tấn công']\n",
        "two_classes_value = [len(ordinary_label_data), len(attack_label_data)]\n",
        "\n",
        "plt.bar(two_classes_label, two_classes_value)\n",
        "plt.title(\"Biểu đồ về số lượng tấn công và không tấn công\")\n",
        "plt.xlabel(\"Nhãn\")\n",
        "plt.ylabel(\"Giá trị\")"
      ],
      "metadata": {
        "id": "dC-izE_0LswV"
      },
      "execution_count": null,
      "outputs": []
    },
    {
      "cell_type": "code",
      "source": [
        "dict_attack_label = {\n",
        "    'DDoS-ICMP_Flood': 'DDoS',\n",
        "    'DDoS-UDP_Flood': 'DDoS',\n",
        "    'DDoS-TCP_Flood': 'DDoS',\n",
        "    'DDoS-PSHACK_Flood': 'DDoS',\n",
        "    'DDoS-SYN_Flood': 'DDoS',\n",
        "    'DDoS-RSTFINFlood': 'DDoS',\n",
        "    'DDoS-SynonymousIP_Flood': 'DDoS',\n",
        "    'DDoS-ICMP_Fragmentation': 'DDoS',\n",
        "    'DDoS-ACK_Fragmentation': 'DDoS',\n",
        "    'DDoS-UDP_Fragmentation': 'DDoS',\n",
        "    'DDoS-HTTP_Flood': 'DDoS',\n",
        "    'DDoS-SlowLoris': 'DDoS',\n",
        "    'DoS-UDP_Flood': 'DoS',\n",
        "    'DoS-TCP_Flood': 'DoS',\n",
        "    'DoS-SYN_Flood': 'DoS',\n",
        "    'DoS-HTTP_Flood': 'DoS',\n",
        "    'Mirai-greeth_flood': 'Mirai',\n",
        "    'Mirai-udpplain': 'Mirai',\n",
        "    'Mirai-greip_flood': 'Mirai',\n",
        "    'MITM-ArpSpoofing': 'Spoofing',\n",
        "    'DNS_Spoofing': 'Spoofing',\n",
        "    'Recon-HostDiscovery': 'Recon',\n",
        "    'Recon-OSScan': 'Recon',\n",
        "    'Recon-PortScan': 'Recon',\n",
        "    'Recon-PingSweep': 'Recon',\n",
        "    'VulnerabilityScan': 'Recon',\n",
        "    'SqlInjection': 'Web',\n",
        "    'BrowserHijacking': 'Web',\n",
        "    'CommandInjection': 'Web',\n",
        "    'Backdoor_Malware': 'Web',\n",
        "    'XSS': 'Web',\n",
        "    'Uploading_Attack': 'Web',\n",
        "    'DictionaryBruteForce': 'Brute Force',\n",
        "    'BenignTraffic': 'BenignTraffic'\n",
        "}\n",
        "\n",
        "attack_label_data['group_label'] = attack_label_data['label'].map(dict_attack_label)"
      ],
      "metadata": {
        "id": "8J7TqixuLx-O"
      },
      "execution_count": null,
      "outputs": []
    },
    {
      "cell_type": "code",
      "source": [
        "grouped_attack_label_value_counts = attack_label_data['group_label'].value_counts()\n",
        "grouped_attack_label_value_counts.plot(kind = 'bar')\n",
        "plt.xlabel('Tên nhóm tấn công')\n",
        "plt.ylabel('Số lượng')\n",
        "plt.title('Biểu đồ về số lượng nhóm tấn công')\n",
        "plt.show()\n"
      ],
      "metadata": {
        "id": "ZwLEQjC9Lywr"
      },
      "execution_count": null,
      "outputs": []
    },
    {
      "cell_type": "code",
      "source": [
        "detailed_attack_label_value_count = attack_label_data['label'].value_counts()\n",
        "detailed_attack_label_value_count.plot(kind = 'bar')\n",
        "plt.xlabel('Chi tiết các cuộc tấn công')\n",
        "plt.ylabel('Số lượng')\n",
        "plt.title('Chi tiết số lượng nhãn tấn công')\n",
        "plt.show()"
      ],
      "metadata": {
        "id": "Be1Yx0BQL07y"
      },
      "execution_count": null,
      "outputs": []
    },
    {
      "cell_type": "code",
      "source": [
        "CONST_DROPPED_LABEL = ['HTTP', 'HTTPS', 'DNS', 'Telnet', 'SMTP', 'SSH', 'IRC', 'TCP', 'DHCP', 'ICMP', 'IPv', 'LLC']\n",
        "dropped_attack_label_data = attack_label_data.drop(CONST_DROPPED_LABEL, axis=1)\n",
        "\n",
        "from sklearn.preprocessing import MinMaxScaler\n",
        "scaler = MinMaxScaler()\n",
        "attack_label_data['Header_Length'] = scaler.fit_transform(attack_label_data[['Header_Length']])\n",
        "\n",
        "attack_label_data['Header_Length'].hist()"
      ],
      "metadata": {
        "id": "uM67YB7OL2UH"
      },
      "execution_count": null,
      "outputs": []
    },
    {
      "cell_type": "code",
      "source": [
        "dropped_ordinary_label_data = ordinary_label_data.drop(CONST_DROPPED_LABEL, axis=1)\n",
        "from sklearn.preprocessing import MinMaxScaler\n",
        "scaler = MinMaxScaler()\n",
        "ordinary_label_data['Header_Length'] = scaler.fit_transform(ordinary_label_data[['Header_Length']])\n",
        "ordinary_label_data['Header_Length'].hist()\n"
      ],
      "metadata": {
        "id": "WdMdiAkdL4Qw"
      },
      "execution_count": null,
      "outputs": []
    },
    {
      "cell_type": "code",
      "source": [
        "ordinary_label_data['Duration'].hist(bins = 2)"
      ],
      "metadata": {
        "id": "Tnx1iexnL51T"
      },
      "execution_count": null,
      "outputs": []
    },
    {
      "cell_type": "code",
      "source": [
        "attack_label_data['Duration'].hist(bins = 2)"
      ],
      "metadata": {
        "id": "v351kPVZL7AG"
      },
      "execution_count": null,
      "outputs": []
    },
    {
      "cell_type": "code",
      "source": [
        "from tensorflow.keras.models import Sequential\n",
        "from tensorflow.keras.layers import Dense\n",
        "from tensorflow.keras.layers import LSTM\n",
        "from tensorflow.keras.layers import Conv1D"
      ],
      "metadata": {
        "id": "XkGdt6KCL8Os"
      },
      "execution_count": null,
      "outputs": []
    },
    {
      "cell_type": "code",
      "source": [
        "\n",
        "from sklearn.model_selection import train_test_split\n",
        "\n",
        "def grouped_two_label(label):\n",
        "    if label == ORDINARY_LABEL_NAME:\n",
        "        return 0\n",
        "\n",
        "    return 1\n",
        "\n",
        "data['two_label'] = data['label'].apply(grouped_two_label)\n",
        "CONST_DROPPED_LABEL = CONST_DROPPED_LABEL + ['label']\n",
        "data = data.values\n",
        "dropped_field_of_data = data.drop(CONST_DROPPED_LABEL, axis=1)\n",
        "\n",
        "X_data, Y_data = dropped_field_of_data.iloc[: , 1: -1], dropped_field_of_data.iloc[:, -1]\n",
        "# print(X_data)\n",
        "# print(Y_data)\n",
        "X_data, Y_data = np.array(X_data), np.array(Y_data)\n",
        "\n",
        "print(X_data.shape, Y_data.shape)\n",
        "X_train,X_test, Y_train, Y_test  = train_test_split(X_data, Y_data, test_size=0.2)\n",
        "\n",
        "def LSTM_model():\n",
        "  model = Sequential()\n",
        "  model.add(LSTM(units=64, input_shape=( 1, X_train.shape[1])))\n",
        "  model.add(Dense(units=1, activation='sigmoid'))\n",
        "  model.compile(optimizer=\"adam\", metrics=['accuracy'], loss=\"binary_crossentropy\")\n",
        "  model.summary()\n",
        "  model.fit(X_train, Y_train, epochs=16, batch_size=64, validation_data=(X_test, Y_test))\n",
        "\n",
        "  return model\n",
        "model = Sequential()\n",
        "model.add(LSTM(units=64, input_shape=( 1, X_train.shape[1])))\n",
        "model.add(Dense(units=1, activation='sigmoid'))\n",
        "model.compile(optimizer=\"adam\", metrics=['accuracy'], loss=\"binary_crossentropy\")\n",
        "model.summary()\n",
        "model.fit(X_train, Y_train, epochs=16, batch_size=64, validation_data=(X_test, Y_test))\n",
        "# Chỉnh sửa dòng này\n",
        "# loss, accuracy = model.evaluate(X_test, Y_test)\n",
        "# print(loss, accuracy)\n",
        "# train_data, test_data = train_test_split(dropped_field_of_data, test_size=0.2, random_state=42)\n",
        "# X_train = train_data.loc[:, train_data.columns != 'two_label']\n",
        "# Y_train = train_data['two_label']\n",
        "\n",
        "# X_test = test_data.loc[:, test_data.columns != 'two_label']\n",
        "# Y_test = test_data['two_label']\n",
        "\n",
        "\n",
        "# Convert the training and testing data to numpy arrays\n",
        "# X_train = X_train.values\n",
        "# Y_train = Y_train.values\n",
        "# X_test = X_test.values\n",
        "# Y_test = Y_test.values\n",
        "\n",
        "# Reshape the input data to fit the LSTM input shape (samples, time steps, features)\n",
        "# print(X_train)\n",
        "# print(X_train.shape[0])\n",
        "# X_train = np.reshape(X_train, (X_train.shape[0], 1, X_train.shape[2]))\n",
        "# X_test = np.reshape(X_test, (X_test.shape[0], 1, X_test.shape[2]))\n",
        "\n",
        "# model = Sequential()\n",
        "# model.add(LSTM(units=64, input_shape=(1, X_train.shape[2])))\n",
        "# model.add(Dense(units=1, activation='sigmoid'))\n",
        "# model.compile(optimizer='adam', loss='binary_crossentropy', metrics=['accuracy'])\n",
        "# model.summary()\n",
        "# model.fit(X_train, Y_train, epochs=30, batch_size=32)\n",
        "\n",
        "# loss, accuracy = model.evaluate(X_test, Y_test)\n",
        "# print('Test Loss:', loss)\n",
        "# print('Test Accuracy:', accuracy)\n"
      ],
      "metadata": {
        "id": "npaa51xgL9f8"
      },
      "execution_count": null,
      "outputs": []
    }
  ]
}